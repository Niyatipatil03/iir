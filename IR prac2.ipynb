{
 "cells": [
  {
   "cell_type": "code",
   "execution_count": null,
   "id": "7642269f-cd0a-4327-be0e-17d61db917e9",
   "metadata": {},
   "outputs": [],
   "source": [
    " Implement a program for retrieval of documents using inverted files"
   ]
  },
  {
   "cell_type": "code",
   "execution_count": 29,
   "id": "333cd1c4-893d-45fb-933d-c80367f1e831",
   "metadata": {},
   "outputs": [],
   "source": [
    "document1 = \"The quick brown fox jumped over the lazy dog .\"\n",
    "document2 = \"The lazy dog slept in the sun .\""
   ]
  },
  {
   "cell_type": "code",
   "execution_count": 30,
   "id": "192a26f5-b583-4bc8-a58e-116e69bf4522",
   "metadata": {},
   "outputs": [],
   "source": [
    "tokens1 = document1.lower().split()\n",
    "tokens2 = document2.lower().split()"
   ]
  },
  {
   "cell_type": "code",
   "execution_count": 31,
   "id": "ed1dbb68-a3b8-4c35-aade-fa155b8a7c19",
   "metadata": {},
   "outputs": [],
   "source": [
    "terms = list(set(tokens1 + tokens2))"
   ]
  },
  {
   "cell_type": "code",
   "execution_count": 32,
   "id": "aa3bac8d-5126-44a1-a21d-4651aa692f6b",
   "metadata": {},
   "outputs": [],
   "source": [
    "inverted_index = {}"
   ]
  },
  {
   "cell_type": "code",
   "execution_count": 33,
   "id": "db3219ee-e3c5-46f4-b6c7-b7b2e9b3360c",
   "metadata": {},
   "outputs": [],
   "source": [
    "for term in terms:\n",
    "    documents = []\n",
    "    if term in tokens1:\n",
    "        documents.append(\"Document 1\")\n",
    "    if term in tokens2:\n",
    "        documents.append(\"Document 2\")\n",
    "    inverted_index[term] = documents\n"
   ]
  },
  {
   "cell_type": "code",
   "execution_count": 34,
   "id": "412ec48a-8dc1-455c-a0ca-c08077326570",
   "metadata": {},
   "outputs": [
    {
     "name": "stdout",
     "output_type": "stream",
     "text": [
      "Inverted Index:\n",
      "jumped -> Document 1\n",
      "sun -> Document 2\n",
      "lazy -> Document 1, Document 2\n",
      "slept -> Document 2\n",
      "dog -> Document 1, Document 2\n",
      "over -> Document 1\n",
      "brown -> Document 1\n",
      ". -> Document 1, Document 2\n",
      "the -> Document 1, Document 2\n",
      "quick -> Document 1\n",
      "fox -> Document 1\n",
      "in -> Document 2\n"
     ]
    }
   ],
   "source": [
    "print(\"Inverted Index:\")\n",
    "for term, documents in inverted_index.items():\n",
    "    print(term, \"->\", \", \".join(documents))"
   ]
  },
  {
   "cell_type": "code",
   "execution_count": 35,
   "id": "12faa44d-e88e-4548-acdc-fbafe495ebb4",
   "metadata": {},
   "outputs": [
    {
     "name": "stdin",
     "output_type": "stream",
     "text": [
      "\n",
      "Enter your search query:  over\n"
     ]
    }
   ],
   "source": [
    "query = input(\"\\nEnter your search query: \").lower()  \n",
    "query_terms = query.split() "
   ]
  },
  {
   "cell_type": "code",
   "execution_count": 36,
   "id": "c46c65e1-2fbd-4980-b1d6-69988fc41b1f",
   "metadata": {},
   "outputs": [
    {
     "name": "stdout",
     "output_type": "stream",
     "text": [
      "\n",
      "Documents matching the query:\n",
      "Document 1\n"
     ]
    }
   ],
   "source": [
    "result_docs = set()  \n",
    "\n",
    "for term in query_terms:\n",
    "    if term in inverted_index:\n",
    "        result_docs.update(inverted_index[term]) \n",
    "\n",
    "\n",
    "if result_docs:\n",
    "    print(\"\\nDocuments matching the query:\")\n",
    "    for doc in result_docs:\n",
    "        print(doc)\n",
    "else:\n",
    "    print(\"\\nNo documents found for the query.\")"
   ]
  }
 ],
 "metadata": {
  "kernelspec": {
   "display_name": "Python 3 (ipykernel)",
   "language": "python",
   "name": "python3"
  },
  "language_info": {
   "codemirror_mode": {
    "name": "ipython",
    "version": 3
   },
   "file_extension": ".py",
   "mimetype": "text/x-python",
   "name": "python",
   "nbconvert_exporter": "python",
   "pygments_lexer": "ipython3",
   "version": "3.11.3"
  }
 },
 "nbformat": 4,
 "nbformat_minor": 5
}
