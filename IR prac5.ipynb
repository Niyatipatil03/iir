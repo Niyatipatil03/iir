{
 "cells": [
  {
   "cell_type": "code",
   "execution_count": null,
   "id": "e0b45c42-97fb-4ef5-981f-1ed311ba62a5",
   "metadata": {},
   "outputs": [],
   "source": [
    " Implement Page Rank Algorithm. (Use python or beautiful soup for implementation)."
   ]
  },
  {
   "cell_type": "code",
   "execution_count": 1,
   "id": "92ada0f8-1893-4593-bf27-2adb513cff0c",
   "metadata": {},
   "outputs": [
    {
     "name": "stdout",
     "output_type": "stream",
     "text": [
      "PageRank values: [0.21991393 0.13096327 0.42920887 0.21991393]\n"
     ]
    }
   ],
   "source": [
    "import numpy as np\n",
    "\n",
    "def page_rank(graph, damping_factor=0.85, max_iterations=100, tol=1e-6):\n",
    "    # Number of pages\n",
    "    num_pages = len(graph)\n",
    "\n",
    "    # Initialize the PageRank values\n",
    "    pagerank = np.ones(num_pages) / num_pages\n",
    "\n",
    "    for _ in range(max_iterations):\n",
    "        new_pagerank = np.zeros(num_pages)\n",
    "        for i in range(num_pages):\n",
    "            for j in range(num_pages):\n",
    "                if graph[j][i]:\n",
    "                    new_pagerank[i] += pagerank[j] / sum(graph[j])\n",
    "\n",
    "        # Apply damping factor and update PageRank\n",
    "        new_pagerank = (1 - damping_factor) / num_pages + damping_factor * new_pagerank\n",
    "\n",
    "        # Check for convergence\n",
    "        if np.linalg.norm(new_pagerank - pagerank) < tol:\n",
    "            return new_pagerank\n",
    "\n",
    "        pagerank = new_pagerank\n",
    "\n",
    "    return pagerank\n",
    "\n",
    "# Example graph representing web page connections\n",
    "# Replace this with your own graph\n",
    "web_graph = [\n",
    "    [0, 1, 1, 0],\n",
    "    [0, 0, 1, 0],\n",
    "    [1, 0, 0, 1],\n",
    "    [0, 0, 1, 0]\n",
    "]\n",
    "\n",
    "pagerank_values = page_rank(web_graph)\n",
    "print(\"PageRank values:\", pagerank_values)\n",
    "            "
   ]
  },
  {
   "cell_type": "code",
   "execution_count": null,
   "id": "3cfe27a4-97c9-41fa-892e-7b01d89312df",
   "metadata": {},
   "outputs": [],
   "source": []
  }
 ],
 "metadata": {
  "kernelspec": {
   "display_name": "Python 3 (ipykernel)",
   "language": "python",
   "name": "python3"
  },
  "language_info": {
   "codemirror_mode": {
    "name": "ipython",
    "version": 3
   },
   "file_extension": ".py",
   "mimetype": "text/x-python",
   "name": "python",
   "nbconvert_exporter": "python",
   "pygments_lexer": "ipython3",
   "version": "3.11.3"
  }
 },
 "nbformat": 4,
 "nbformat_minor": 5
}
