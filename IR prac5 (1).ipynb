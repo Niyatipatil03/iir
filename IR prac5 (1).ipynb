{
 "cells": [
  {
   "cell_type": "code",
   "execution_count": null,
   "id": "e0b45c42-97fb-4ef5-981f-1ed311ba62a5",
   "metadata": {},
   "outputs": [],
   "source": [
    " Implement Page Rank Algorithm. (Use python or beautiful soup for implementation)."
   ]
  },
  {
   "cell_type": "code",
   "execution_count": 1,
   "id": "92ada0f8-1893-4593-bf27-2adb513cff0c",
   "metadata": {},
   "outputs": [
    {
     "name": "stdout",
     "output_type": "stream",
     "text": [
      "PageRank values: [0.21991393 0.13096327 0.42920887 0.21991393]\n"
     ]
    }
   ],
   "source": [
    "import numpy as np\n",
    "\n",
    "def page_rank(graph, damping_factor=0.85, max_iterations=100, tol=1e-6):\n",
    "    # Number of pages\n",
    "    num_pages = len(graph)\n",
    "\n",
    "    # Initialize the PageRank values\n",
    "    pagerank = np.ones(num_pages) / num_pages\n",
    "\n",
    "    for _ in range(max_iterations):\n",
    "        new_pagerank = np.zeros(num_pages)\n",
    "        for i in range(num_pages):\n",
    "            for j in range(num_pages):\n",
    "                if graph[j][i]:\n",
    "                    new_pagerank[i] += pagerank[j] / sum(graph[j])\n",
    "\n",
    "        # Apply damping factor and update PageRank\n",
    "        new_pagerank = (1 - damping_factor) / num_pages + damping_factor * new_pagerank\n",
    "\n",
    "        # Check for convergence\n",
    "        if np.linalg.norm(new_pagerank - pagerank) < tol:\n",
    "            return new_pagerank\n",
    "\n",
    "        pagerank = new_pagerank\n",
    "\n",
    "    return pagerank\n",
    "\n",
    "# Example graph representing web page connections\n",
    "# Replace this with your own graph\n",
    "web_graph = [\n",
    "    [0, 1, 1, 0],\n",
    "    [0, 0, 1, 0],\n",
    "    [1, 0, 0, 1],\n",
    "    [0, 0, 1, 0]\n",
    "]\n",
    "\n",
    "pagerank_values = page_rank(web_graph)\n",
    "print(\"PageRank values:\", pagerank_values)\n",
    "            "
   ]
  },
  {
   "cell_type": "code",
   "execution_count": null,
   "id": "3cfe27a4-97c9-41fa-892e-7b01d89312df",
   "metadata": {},
   "outputs": [],
   "source": []
  },
  {
   "cell_type": "code",
   "execution_count": null,
   "id": "959dce5c-5be0-40de-a2e5-15e351e71a66",
   "metadata": {},
   "outputs": [],
   "source": []
  },
  {
   "cell_type": "code",
   "execution_count": null,
   "id": "6879bf9f-0b4c-4542-a0b2-a70a0abf64c6",
   "metadata": {},
   "outputs": [],
   "source": []
  },
  {
   "cell_type": "code",
   "execution_count": null,
   "id": "23f735e9-7a5a-43ae-8160-efc030be075d",
   "metadata": {},
   "outputs": [],
   "source": []
  },
  {
   "cell_type": "code",
   "execution_count": null,
   "id": "8f1d1f83-7505-4dab-b72f-066326943893",
   "metadata": {},
   "outputs": [],
   "source": []
  },
  {
   "cell_type": "code",
   "execution_count": null,
   "id": "d15686ca-58da-4a44-a83a-63ffc75d3f93",
   "metadata": {},
   "outputs": [],
   "source": []
  },
  {
   "cell_type": "code",
   "execution_count": null,
   "id": "a9867359-ec0d-47a8-a7ef-cb40bff9a907",
   "metadata": {},
   "outputs": [],
   "source": []
  },
  {
   "cell_type": "code",
   "execution_count": null,
   "id": "d37d410d-b89e-4a15-b65a-f3a0ff037325",
   "metadata": {},
   "outputs": [],
   "source": []
  },
  {
   "cell_type": "code",
   "execution_count": null,
   "id": "8dfc65b4-f2b0-4035-92f7-a990b018d2d8",
   "metadata": {},
   "outputs": [],
   "source": []
  },
  {
   "cell_type": "code",
   "execution_count": null,
   "id": "bbad6330-3b63-4529-9ac0-924d87caadb9",
   "metadata": {},
   "outputs": [],
   "source": []
  },
  {
   "cell_type": "code",
   "execution_count": null,
   "id": "56f77441-6c3b-419f-a89b-e9448dc7bae3",
   "metadata": {},
   "outputs": [],
   "source": []
  },
  {
   "cell_type": "code",
   "execution_count": null,
   "id": "9ea67527-4315-4245-b6e6-3a1d2f47515c",
   "metadata": {},
   "outputs": [],
   "source": []
  },
  {
   "cell_type": "code",
   "execution_count": null,
   "id": "4f004b2d-f699-48f5-be3d-b32617058bab",
   "metadata": {},
   "outputs": [],
   "source": []
  },
  {
   "cell_type": "code",
   "execution_count": null,
   "id": "addba163-0fca-4892-8772-4586f1754c1a",
   "metadata": {},
   "outputs": [],
   "source": []
  },
  {
   "cell_type": "code",
   "execution_count": null,
   "id": "4f3b00a1-d743-48b0-99e4-be0c7f570514",
   "metadata": {},
   "outputs": [],
   "source": []
  },
  {
   "cell_type": "code",
   "execution_count": null,
   "id": "9346cc85-9e9c-4eab-8079-ec9d1a99a090",
   "metadata": {},
   "outputs": [],
   "source": []
  },
  {
   "cell_type": "code",
   "execution_count": null,
   "id": "5ba4524f-846a-4af2-a33c-4c22de68a4c6",
   "metadata": {},
   "outputs": [],
   "source": []
  },
  {
   "cell_type": "code",
   "execution_count": null,
   "id": "aa60142e-83c4-48cf-88ca-0955302d143e",
   "metadata": {},
   "outputs": [],
   "source": []
  },
  {
   "cell_type": "code",
   "execution_count": null,
   "id": "f0a0a10b-e725-4749-9e56-f035e89f86df",
   "metadata": {},
   "outputs": [],
   "source": []
  },
  {
   "cell_type": "code",
   "execution_count": null,
   "id": "dbd76028-0f6b-4865-a0d7-19341b48293b",
   "metadata": {},
   "outputs": [],
   "source": []
  },
  {
   "cell_type": "code",
   "execution_count": null,
   "id": "114f1e5f-4f1b-4d7c-8a26-9a0949df4e65",
   "metadata": {},
   "outputs": [],
   "source": []
  },
  {
   "cell_type": "code",
   "execution_count": null,
   "id": "6a8f5b65-d100-4828-9182-24087018af8a",
   "metadata": {},
   "outputs": [],
   "source": []
  },
  {
   "cell_type": "code",
   "execution_count": null,
   "id": "0777cab0-1768-4001-b14f-8f2106dd39e8",
   "metadata": {},
   "outputs": [],
   "source": []
  },
  {
   "cell_type": "code",
   "execution_count": null,
   "id": "9c65ee41-83cf-4fae-877b-2528e458ec1f",
   "metadata": {},
   "outputs": [],
   "source": []
  },
  {
   "cell_type": "code",
   "execution_count": null,
   "id": "fd6ac44f-8c4d-41fc-9c2c-5dfbb331a2cc",
   "metadata": {},
   "outputs": [],
   "source": []
  },
  {
   "cell_type": "code",
   "execution_count": null,
   "id": "c9a7f4b3-64bc-4b21-b4f9-88afe504d02c",
   "metadata": {},
   "outputs": [],
   "source": []
  },
  {
   "cell_type": "code",
   "execution_count": null,
   "id": "78fdd6a0-6311-4699-b877-abf2887fce2a",
   "metadata": {},
   "outputs": [],
   "source": []
  },
  {
   "cell_type": "code",
   "execution_count": null,
   "id": "a8c4db1e-53bf-469f-a63d-6612de57685b",
   "metadata": {},
   "outputs": [],
   "source": []
  },
  {
   "cell_type": "code",
   "execution_count": null,
   "id": "d69ac497-b319-4bda-b767-f3b70c664bbe",
   "metadata": {},
   "outputs": [],
   "source": []
  },
  {
   "cell_type": "code",
   "execution_count": null,
   "id": "cd8c028a-f194-43e9-905b-116868041f79",
   "metadata": {},
   "outputs": [],
   "source": []
  },
  {
   "cell_type": "code",
   "execution_count": null,
   "id": "f4ae58dd-adc4-4c74-bc59-b9a4199435be",
   "metadata": {},
   "outputs": [],
   "source": []
  },
  {
   "cell_type": "code",
   "execution_count": null,
   "id": "266ea3cc-1f4d-4afa-8824-c054bf21be7c",
   "metadata": {},
   "outputs": [],
   "source": []
  },
  {
   "cell_type": "code",
   "execution_count": null,
   "id": "33fc2551-0eb8-431c-b8bc-467a41002a4b",
   "metadata": {},
   "outputs": [],
   "source": []
  },
  {
   "cell_type": "code",
   "execution_count": null,
   "id": "fc6c0d20-1f0b-4317-8c96-f52816bffd55",
   "metadata": {},
   "outputs": [],
   "source": []
  },
  {
   "cell_type": "code",
   "execution_count": null,
   "id": "fbc325d7-e5a8-4b31-ac9a-5b32bf5dc543",
   "metadata": {},
   "outputs": [],
   "source": []
  },
  {
   "cell_type": "code",
   "execution_count": null,
   "id": "dc766c8f-ed63-4cb7-8c15-6f224e023c42",
   "metadata": {},
   "outputs": [],
   "source": []
  },
  {
   "cell_type": "code",
   "execution_count": null,
   "id": "1133a3c9-19d2-4c45-8463-48d6a8542d17",
   "metadata": {},
   "outputs": [],
   "source": []
  },
  {
   "cell_type": "code",
   "execution_count": null,
   "id": "cb2e1139-afec-49d0-bf10-cecc9da6923e",
   "metadata": {},
   "outputs": [],
   "source": []
  },
  {
   "cell_type": "code",
   "execution_count": null,
   "id": "657737f1-c214-4638-a3b5-fcdfd69fab8d",
   "metadata": {},
   "outputs": [],
   "source": []
  },
  {
   "cell_type": "code",
   "execution_count": null,
   "id": "66364412-5a5a-4df6-af54-f98ed2293e4d",
   "metadata": {},
   "outputs": [],
   "source": []
  },
  {
   "cell_type": "code",
   "execution_count": null,
   "id": "6dd77a09-dc8f-47af-8273-3ad77520e935",
   "metadata": {},
   "outputs": [],
   "source": []
  },
  {
   "cell_type": "code",
   "execution_count": null,
   "id": "ae330628-e937-464f-ba34-bd9bbe231577",
   "metadata": {},
   "outputs": [],
   "source": []
  },
  {
   "cell_type": "code",
   "execution_count": null,
   "id": "651f7b15-104b-4945-8833-9519284f38ad",
   "metadata": {},
   "outputs": [],
   "source": []
  },
  {
   "cell_type": "code",
   "execution_count": null,
   "id": "1b9db597-f984-45a4-9c3c-5878c3317297",
   "metadata": {},
   "outputs": [],
   "source": []
  },
  {
   "cell_type": "code",
   "execution_count": null,
   "id": "6872f55f-d95f-40f4-8077-0b714c9565d9",
   "metadata": {},
   "outputs": [],
   "source": [
    "PageRank Algorithm Theory\n",
    "PageRank is an algorithm developed by Google founders Larry Page and Sergey\n",
    "Brin to rank web pages based on their link structure. The central idea of\n",
    "PageRank is that a web page is more important if it is linked to by many other\n",
    "pages, and the importance of the linking pages also plays a crucial role in\n",
    "determining the importance of the page being linked to. In other words, it is\n",
    "based on the assumption that important pages are more likely to be linked to\n",
    "by other important pages.\n",
    "Here is a breakdown of the theory behind the PageRank algorithm:\n",
    "1. Graph Representation of the Web:\n",
    "The web can be represented as a directed graph where:\n",
    "• Each web page is a node (or vertex).\n",
    "• A hyperlink from one page to another is a directed edge (an arrow\n",
    "pointing from one node to another).\n",
    "For example, if page A links to page B, the graph has an edge pointing from A to\n",
    "B.\n",
    "2. Initial Assumption:\n",
    "Initially, every page is assumed to have the same importance. In PageRank,\n",
    "importance is represented by a value called rank. The rank is a real number\n",
    "between 0 and 1 that signifies how important a page is.\n",
    "3. Rank Propagation:\n",
    "PageRank uses an iterative approach to calculate the rank of each page. The\n",
    "basic principle is that the rank of a page is determined by the ranks of the\n",
    "pages that link to it. In other words, if page A has a high rank, and it links to\n",
    "page B, then page B’s rank will increase.\n",
    "PageRank is computed using the following formula:\n",
    "The PageRank formula is used to rank web pages in terms of their importance\n",
    "within a network, such as the Internet. It’s based on the idea that important\n",
    "pages are likely to be linked to by many other important pages. Here’s the basic\n",
    "PageRank formula:\n",
    "𝑃𝑅(𝐴) = (1 −\n",
    "𝑑\n",
    "𝑁\n",
    ") + 𝑑∑(𝑖 = 1 𝑡𝑜 𝑛)(𝑃𝑅(𝐵𝑖)/(𝐿𝑖))\n",
    "Where:\n",
    "- \\( PR(A) \\): The PageRank of page \\( A \\).\n",
    "- \\( d \\): The damping factor, usually set to around 0.85. This value models the\n",
    "probability that a user will continue clicking on links rather than randomly\n",
    "jumping to another page.\n",
    "- \\( N \\): The total number of pages in the network (or graph).\n",
    "- \\( B_i \\): The set of pages that link to page \\( A \\).\n",
    "- \\( PR(B_i) \\): The PageRank of page \\( B_i \\) (i.e., one of the pages linking to \\(\n",
    "A \\)).\n",
    "- \\( L(B_i) \\): The number of links from page \\( B_i \\).\n",
    "### Explanation of the Formula Components\n",
    "1. **Damping Factor \\( (1 - d) / N \\)**:\n",
    " - This term represents the probability that a user randomly jumps to any page\n",
    "rather than following links, giving each page a baseline rank.\n",
    "\n",
    "2. **Summation Term 𝑑∑(𝑖 = 1 𝑡𝑜 𝑛)(𝑃𝑅(𝐵𝑖)/(𝐿𝑖)):\n",
    " - Each page linking to \\( A \\) (each \\( B_i \\)) contributes to \\( A \\)’s PageRank.\n",
    " - The rank contribution from \\( B_i \\) to \\( A \\) is proportional to \\( PR(B_i) \\),\n",
    "weighted by the number of outgoing links \\( L(B_i) \\) from \\( B_i \\).\n",
    " - The damping factor \\( d \\) controls the influence of incoming links,\n",
    "preventing the ranks from becoming too biased toward highly linked pages.\n",
    "The PageRank algorithm generally requires multiple iterations to reach a stable\n",
    "ranking for all pages. The final rank values are determined when the change in\n",
    "PageRank values falls below a threshold (convergence).\n",
    "4. Damping Factor:\n",
    "The damping factor ddd is a constant between 0 and 1, typically set to 0.85.\n",
    "This factor accounts for the probability that a user will continue clicking on links\n",
    "versus randomly jumping to any page in the network.\n",
    "• If d=1d = 1d=1, it means the user always follows links, and there is no\n",
    "chance of random jumps.\n",
    "• If d=0d = 0d=0, the user always jumps randomly to a new page and never\n",
    "follows links.\n",
    "5. Convergence:\n",
    "The PageRank algorithm is iterative and repeats until the rank values converge\n",
    "(i.e., the change in rank values becomes smaller than a certain threshold).\n",
    "Typically, after a few iterations, the rank values stabilize.\n",
    "Implementing PageRank with Python\n",
    "We can implement the PageRank algorithm in Python using the following steps:\n",
    "1. Represent the Web Graph: Use an adjacency matrix or list to represent\n",
    "the web structure.\n",
    "2. Initialize Rank Values: Initially, assign an equal rank value to all pages.\n",
    "3. Iterative Rank Computation: Recalculate rank values using the PageRank\n",
    "formula.\n",
    "4. Convergence: Continue until the rank values converge.\n"
   ]
  }
 ],
 "metadata": {
  "kernelspec": {
   "display_name": "Python 3 (ipykernel)",
   "language": "python",
   "name": "python3"
  },
  "language_info": {
   "codemirror_mode": {
    "name": "ipython",
    "version": 3
   },
   "file_extension": ".py",
   "mimetype": "text/x-python",
   "name": "python",
   "nbconvert_exporter": "python",
   "pygments_lexer": "ipython3",
   "version": "3.11.3"
  }
 },
 "nbformat": 4,
 "nbformat_minor": 5
}
