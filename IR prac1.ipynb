{
 "cells": [
  {
   "cell_type": "code",
   "execution_count": null,
   "id": "b9467bf9-8ad2-4aa7-b457-300e04608803",
   "metadata": {},
   "outputs": [],
   "source": [
    "Write a program for pre-processing of a text document such as stop word removal, stemming"
   ]
  },
  {
   "cell_type": "code",
   "execution_count": 4,
   "id": "2fa95d83-e27d-4e5b-b3ab-cfe3b7d2b053",
   "metadata": {},
   "outputs": [],
   "source": [
    "import nltk\n",
    "from nltk.corpus import stopwords\n",
    "from nltk.stem import PorterStemmer\n",
    "from nltk.tokenize import word_tokenize"
   ]
  },
  {
   "cell_type": "code",
   "execution_count": 5,
   "id": "31e78aff-6899-480a-846e-d3c54f591c3a",
   "metadata": {},
   "outputs": [
    {
     "name": "stderr",
     "output_type": "stream",
     "text": [
      "[nltk_data] Downloading package punkt to C:\\Users\\Niyati\n",
      "[nltk_data]     Patil\\AppData\\Roaming\\nltk_data...\n",
      "[nltk_data]   Package punkt is already up-to-date!\n",
      "[nltk_data] Downloading package stopwords to C:\\Users\\Niyati\n",
      "[nltk_data]     Patil\\AppData\\Roaming\\nltk_data...\n",
      "[nltk_data]   Package stopwords is already up-to-date!\n"
     ]
    },
    {
     "data": {
      "text/plain": [
       "True"
      ]
     },
     "execution_count": 5,
     "metadata": {},
     "output_type": "execute_result"
    }
   ],
   "source": [
    "nltk.download('punkt')\n",
    "nltk.download('stopwords')"
   ]
  },
  {
   "cell_type": "code",
   "execution_count": 7,
   "id": "89ad495b-9d61-4733-a3e3-7c77ae289cb8",
   "metadata": {},
   "outputs": [],
   "source": [
    "text = \"\"\"\n",
    "Natural Language Processing (NLP) is a field of artificial intelligence that focuses on the interaction\n",
    "between computers and humans through language\n",
    "\"\"\""
   ]
  },
  {
   "cell_type": "code",
   "execution_count": 8,
   "id": "075fe0f7-6cdd-4012-bd6f-91fbee36f395",
   "metadata": {},
   "outputs": [],
   "source": [
    "words = word_tokenize(text)"
   ]
  },
  {
   "cell_type": "code",
   "execution_count": 9,
   "id": "8fbea9d5-498d-4df4-a3ba-73f038ae809f",
   "metadata": {},
   "outputs": [],
   "source": [
    "stemmer = PorterStemmer()"
   ]
  },
  {
   "cell_type": "code",
   "execution_count": 10,
   "id": "8bb9f9e1-f75f-45c4-8f4b-35ecaa0006c4",
   "metadata": {},
   "outputs": [],
   "source": [
    "stop_words = set(stopwords.words('english'))"
   ]
  },
  {
   "cell_type": "code",
   "execution_count": 11,
   "id": "7ebd2af6-173d-4089-86d3-47bfafd894a1",
   "metadata": {},
   "outputs": [],
   "source": [
    "preprocessed_words = []"
   ]
  },
  {
   "cell_type": "code",
   "execution_count": 15,
   "id": "0778270f-4dbd-4f15-9310-7bb8dc174637",
   "metadata": {},
   "outputs": [],
   "source": [
    "for word in words:\n",
    "    word = word.lower()\n",
    "    word = word.strip(\",.'?![](){}\")\n",
    "    if word and word not in stop_words:\n",
    "        stemmed_word = stemmer.stem(word)\n",
    "        preprocessed_words.append(stemmed_word)\n",
    "\n",
    "preprocessed_text = \" \".join(preprocessed_words)"
   ]
  },
  {
   "cell_type": "code",
   "execution_count": 26,
   "id": "00d007d6-2f9b-41d0-ace8-dbdd179ebab4",
   "metadata": {},
   "outputs": [
    {
     "name": "stdout",
     "output_type": "stream",
     "text": [
      "\n",
      "Original Text:\n",
      "\n",
      "NLP is as Natural Language Processing which is a field of Artificial Intelligence that focuses on interaction between Computer and Human.\n",
      "\n",
      "\n",
      "Preprocessed Text:\n",
      "nlp natur languag process field artifici intellig focus interact comput human nlp natur languag process field artifici intellig focus interact comput human\n"
     ]
    }
   ],
   "source": [
    "print(\"\\nOriginal Text:\")\n",
    "print(text)\n",
    "print(\"\\nPreprocessed Text:\")\n",
    "print(preprocessed_text)"
   ]
  }
 ],
 "metadata": {
  "kernelspec": {
   "display_name": "Python 3 (ipykernel)",
   "language": "python",
   "name": "python3"
  },
  "language_info": {
   "codemirror_mode": {
    "name": "ipython",
    "version": 3
   },
   "file_extension": ".py",
   "mimetype": "text/x-python",
   "name": "python",
   "nbconvert_exporter": "python",
   "pygments_lexer": "ipython3",
   "version": "3.11.3"
  }
 },
 "nbformat": 4,
 "nbformat_minor": 5
}
